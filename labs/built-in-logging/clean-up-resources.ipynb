{
 "cells": [
  {
   "cell_type": "markdown",
   "metadata": {},
   "source": [
    "### 🗑️ Clean up resources\n",
    "\n",
    "When you're finished with the lab, you should remove all your deployed resources from Azure to avoid extra charges and keep your Azure subscription uncluttered."
   ]
  },
  {
   "cell_type": "code",
   "execution_count": 1,
   "metadata": {},
   "outputs": [
    {
     "name": "stdout",
     "output_type": "stream",
     "text": [
      "👍🏻  apim38-mjadhkb4tqmuk  was  deleted  ⌚  01:23:05.908742\n",
      "👍🏻  apim38-mjadhkb4tqmuk  was  purged  ⌚  01:24:33.837793\n",
      "✌🏻  /subscriptions/9d4a14de-67d7-4029-a3b4-7a7e3e6581cf/resourceGroups/lab-built-in-logging/providers/Microsoft.ApiManagement/service/apim38-mjadhkb4tqmuk/apis/openai  ignored\n",
      "✌🏻  /subscriptions/9d4a14de-67d7-4029-a3b4-7a7e3e6581cf/resourceGroups/lab-built-in-logging/providers/Microsoft.ApiManagement/service/apim38-mjadhkb4tqmuk/apis/openai/diagnostics/applicationinsights  ignored\n",
      "✌🏻  /subscriptions/9d4a14de-67d7-4029-a3b4-7a7e3e6581cf/resourceGroups/lab-built-in-logging/providers/Microsoft.ApiManagement/service/apim38-mjadhkb4tqmuk/apis/openai/policies/policy  ignored\n",
      "✌🏻  /subscriptions/9d4a14de-67d7-4029-a3b4-7a7e3e6581cf/resourceGroups/lab-built-in-logging/providers/Microsoft.ApiManagement/service/apim38-mjadhkb4tqmuk/backends/openai1  ignored\n",
      "✌🏻  /subscriptions/9d4a14de-67d7-4029-a3b4-7a7e3e6581cf/resourceGroups/lab-built-in-logging/providers/Microsoft.ApiManagement/service/apim38-mjadhkb4tqmuk/backends/openai2  ignored\n",
      "✌🏻  /subscriptions/9d4a14de-67d7-4029-a3b4-7a7e3e6581cf/resourceGroups/lab-built-in-logging/providers/Microsoft.ApiManagement/service/apim38-mjadhkb4tqmuk/backends/openai-backend-pool  ignored\n",
      "✌🏻  /subscriptions/9d4a14de-67d7-4029-a3b4-7a7e3e6581cf/resourceGroups/lab-built-in-logging/providers/Microsoft.ApiManagement/service/apim38-mjadhkb4tqmuk/loggers/apim-logger  ignored\n",
      "✌🏻  /subscriptions/9d4a14de-67d7-4029-a3b4-7a7e3e6581cf/resourceGroups/lab-built-in-logging/providers/Microsoft.ApiManagement/service/apim38-mjadhkb4tqmuk/subscriptions/openai-subscription  ignored\n",
      "👍🏻  openai1-mjadhkb4tqmuk  was  deleted  ⌚  01:25:03.009292\n",
      "👍🏻  openai1-mjadhkb4tqmuk  was  purged  ⌚  01:25:35.996507\n",
      "✌🏻  /subscriptions/9d4a14de-67d7-4029-a3b4-7a7e3e6581cf/resourceGroups/lab-built-in-logging/providers/Microsoft.CognitiveServices/accounts/openai1-mjadhkb4tqmuk/deployments/gpt-35-turbo  ignored\n",
      "✌🏻  /subscriptions/9d4a14de-67d7-4029-a3b4-7a7e3e6581cf/resourceGroups/lab-built-in-logging/providers/Microsoft.CognitiveServices/accounts/openai1-mjadhkb4tqmuk/providers/Microsoft.Authorization/roleAssignments/00eaa9c2-9ed3-5343-899d-512b23b4178f  ignored\n",
      "👍🏻  openai2-mjadhkb4tqmuk  was  deleted  ⌚  01:25:49.679606\n",
      "👍🏻  openai2-mjadhkb4tqmuk  was  purged  ⌚  01:26:22.553559\n",
      "✌🏻  /subscriptions/9d4a14de-67d7-4029-a3b4-7a7e3e6581cf/resourceGroups/lab-built-in-logging/providers/Microsoft.CognitiveServices/accounts/openai2-mjadhkb4tqmuk/deployments/gpt-35-turbo  ignored\n",
      "✌🏻  /subscriptions/9d4a14de-67d7-4029-a3b4-7a7e3e6581cf/resourceGroups/lab-built-in-logging/providers/Microsoft.CognitiveServices/accounts/openai2-mjadhkb4tqmuk/providers/Microsoft.Authorization/roleAssignments/fb42f0c4-2be9-51f5-9b73-4cce53e7e9c6  ignored\n",
      "👍🏻  lab-built-in-logging  was  deleted  ⌚  01:27:51.707287\n"
     ]
    }
   ],
   "source": [
    "import os\n",
    "import json\n",
    "import datetime\n",
    "\n",
    "deployment_name = os.path.basename(os.path.dirname(globals()['__vsc_ipynb_file__']))\n",
    "resource_group_name = f\"lab-{deployment_name}\"\n",
    "\n",
    "def log(stdout, name, action):\n",
    "    if stdout.n.startswith(\"ERROR\"):\n",
    "        print(\"👎🏻 \", name, \" was NOT \", action, \": \", stdout)\n",
    "    else:\n",
    "        print(\"👍🏻 \", name, \" was \", action, \" ⌚ \", datetime.datetime.now().time())\n",
    "\n",
    "deployment_stdout = ! az deployment group show --name {deployment_name} -g {resource_group_name} -o json    \n",
    "deployment = json.loads(deployment_stdout.n)\n",
    "for resource in deployment.get(\"properties\").get(\"outputResources\"):\n",
    "    resource_id = resource.get(\"id\")\n",
    "    try:\n",
    "        query = \"\\\"{type:type, name:name, location:location}\\\"\"\n",
    "        resource_stdout = ! az resource show --id {resource_id} --query {query} -o json\n",
    "        resource = json.loads(resource_stdout.n)\n",
    "        resource_name = resource.get(\"name\")\n",
    "        resource_type = resource.get(\"type\")  \n",
    "        if resource_type == \"Microsoft.CognitiveServices/accounts\":\n",
    "            resource_location = \"\\\"\" + resource.get(\"location\") + \"\\\"\"\n",
    "            delete_stdout = ! az cognitiveservices account delete -g {resource_group_name} -n {resource_name}\n",
    "            log(delete_stdout, resource_name, \"deleted\")\n",
    "            delete_stdout = ! az cognitiveservices account purge -g {resource_group_name} -n {resource_name} -l {resource_location}\n",
    "            log(delete_stdout, resource_name, \"purged\")\n",
    "        elif resource_type == \"Microsoft.ApiManagement/service\":\n",
    "            resource_location = \"\\\"\" + resource.get(\"location\") + \"\\\"\"\n",
    "            delete_stdout = ! az apim delete -n {resource_name} -g {resource_group_name} -y\n",
    "            log(delete_stdout, resource_name, \"deleted\")\n",
    "            delete_stdout = ! az apim deletedservice purge --service-name {resource_name} --location {resource_location}\n",
    "            log(delete_stdout, resource_name, \"purged\")\n",
    "    except:\n",
    "        print(\"✌🏻 \", resource_id, \" ignored\")\n",
    "delete_stdout = ! az group delete --name {resource_group_name} -y\n",
    "log(delete_stdout, resource_group_name, \"deleted\")\n",
    "\n"
   ]
  }
 ],
 "metadata": {
  "kernelspec": {
   "display_name": "Python 3",
   "language": "python",
   "name": "python3"
  },
  "language_info": {
   "codemirror_mode": {
    "name": "ipython",
    "version": 3
   },
   "file_extension": ".py",
   "mimetype": "text/x-python",
   "name": "python",
   "nbconvert_exporter": "python",
   "pygments_lexer": "ipython3",
   "version": "3.12.2"
  }
 },
 "nbformat": 4,
 "nbformat_minor": 2
}
