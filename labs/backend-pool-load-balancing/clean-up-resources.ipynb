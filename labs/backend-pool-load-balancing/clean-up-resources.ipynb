{
 "cells": [
  {
   "cell_type": "markdown",
   "metadata": {},
   "source": [
    "### 🗑️ Clean up resources\n",
    "\n",
    "When you're finished with the lab, you should remove all your deployed resources from Azure to avoid extra charges and keep your Azure subscription uncluttered."
   ]
  },
  {
   "cell_type": "code",
   "execution_count": 1,
   "metadata": {},
   "outputs": [
    {
     "name": "stdout",
     "output_type": "stream",
     "text": [
      "👉🏽 \u001b[1;32m🧹 Cleaning up deployment 'backend-pool-load-balancing' resources in resource group 'lab-backend-pool-load-balancing'...\u001b[0m ⌚ 12:56:27.811027 \n",
      "⚙️ \u001b[1;34mRunning: az deployment group show --name backend-pool-load-balancing -g lab-backend-pool-load-balancing -o json \u001b[0m\n",
      "✅ \u001b[1;32mDeployment retrieved\u001b[0m ⌚ 12:56:33.717767 [0m:5s]\n",
      "\n",
      "🔍  Processing resource 1/17...\n",
      "⚙️ \u001b[1;34mRunning: az resource show --id /subscriptions/dcef7009-6b94-4382-afdc-17eb160d709a/resourceGroups/lab-backend-pool-load-balancing/providers/Microsoft.ApiManagement/service/apim-b2qbckzijvyk4 --query \"{type:type, name:name, location:location}\" -o json \u001b[0m\n",
      "🗑 Deleting Microsoft.ApiManagement/service 'apim-b2qbckzijvyk4' in resource group 'lab-backend-pool-load-balancing'...\n",
      "⚙️ \u001b[1;34mRunning: az apim delete -n apim-b2qbckzijvyk4 -g lab-backend-pool-load-balancing -y \u001b[0m\n",
      "✅ \u001b[1;32mAPI Management 'apim-b2qbckzijvyk4' deleted\u001b[0m ⌚ 12:57:43.376090 [1m:6s]\n",
      "⚙️ \u001b[1;34mRunning: az apim deletedservice purge --service-name apim-b2qbckzijvyk4 --location \"West Europe\" \u001b[0m\n",
      "✅ \u001b[1;32mAPI Management 'apim-b2qbckzijvyk4' purged\u001b[0m ⌚ 12:59:12.590091 [1m:29s]\n",
      "\n",
      "🔍  Processing resource 2/17...\n",
      "⚙️ \u001b[1;34mRunning: az resource show --id /subscriptions/dcef7009-6b94-4382-afdc-17eb160d709a/resourceGroups/lab-backend-pool-load-balancing/providers/Microsoft.ApiManagement/service/apim-b2qbckzijvyk4/apis/openai --query \"{type:type, name:name, location:location}\" -o json \u001b[0m\n",
      "\n",
      "🔍  Processing resource 3/17...\n",
      "⚙️ \u001b[1;34mRunning: az resource show --id /subscriptions/dcef7009-6b94-4382-afdc-17eb160d709a/resourceGroups/lab-backend-pool-load-balancing/providers/Microsoft.ApiManagement/service/apim-b2qbckzijvyk4/apis/openai/policies/policy --query \"{type:type, name:name, location:location}\" -o json \u001b[0m\n",
      "\n",
      "🔍  Processing resource 4/17...\n",
      "⚙️ \u001b[1;34mRunning: az resource show --id /subscriptions/dcef7009-6b94-4382-afdc-17eb160d709a/resourceGroups/lab-backend-pool-load-balancing/providers/Microsoft.ApiManagement/service/apim-b2qbckzijvyk4/backends/openai-backend-pool --query \"{type:type, name:name, location:location}\" -o json \u001b[0m\n",
      "\n",
      "🔍  Processing resource 5/17...\n",
      "⚙️ \u001b[1;34mRunning: az resource show --id /subscriptions/dcef7009-6b94-4382-afdc-17eb160d709a/resourceGroups/lab-backend-pool-load-balancing/providers/Microsoft.ApiManagement/service/apim-b2qbckzijvyk4/backends/openai1 --query \"{type:type, name:name, location:location}\" -o json \u001b[0m\n",
      "\n",
      "🔍  Processing resource 6/17...\n",
      "⚙️ \u001b[1;34mRunning: az resource show --id /subscriptions/dcef7009-6b94-4382-afdc-17eb160d709a/resourceGroups/lab-backend-pool-load-balancing/providers/Microsoft.ApiManagement/service/apim-b2qbckzijvyk4/backends/openai2 --query \"{type:type, name:name, location:location}\" -o json \u001b[0m\n",
      "\n",
      "🔍  Processing resource 7/17...\n",
      "⚙️ \u001b[1;34mRunning: az resource show --id /subscriptions/dcef7009-6b94-4382-afdc-17eb160d709a/resourceGroups/lab-backend-pool-load-balancing/providers/Microsoft.ApiManagement/service/apim-b2qbckzijvyk4/backends/openai3 --query \"{type:type, name:name, location:location}\" -o json \u001b[0m\n",
      "\n",
      "🔍  Processing resource 8/17...\n",
      "⚙️ \u001b[1;34mRunning: az resource show --id /subscriptions/dcef7009-6b94-4382-afdc-17eb160d709a/resourceGroups/lab-backend-pool-load-balancing/providers/Microsoft.ApiManagement/service/apim-b2qbckzijvyk4/subscriptions/openai-subscription --query \"{type:type, name:name, location:location}\" -o json \u001b[0m\n",
      "\n",
      "🔍  Processing resource 9/17...\n",
      "⚙️ \u001b[1;34mRunning: az resource show --id /subscriptions/dcef7009-6b94-4382-afdc-17eb160d709a/resourceGroups/lab-backend-pool-load-balancing/providers/Microsoft.CognitiveServices/accounts/openai1-b2qbckzijvyk4 --query \"{type:type, name:name, location:location}\" -o json \u001b[0m\n",
      "🗑 Deleting Microsoft.CognitiveServices/accounts 'openai1-b2qbckzijvyk4' in resource group 'lab-backend-pool-load-balancing'...\n",
      "⚙️ \u001b[1;34mRunning: az cognitiveservices account delete -g lab-backend-pool-load-balancing -n openai1-b2qbckzijvyk4 \u001b[0m\n",
      "✅ \u001b[1;32mCognitive Services 'openai1-b2qbckzijvyk4' deleted\u001b[0m ⌚ 12:59:45.460578 [0m:5s]\n",
      "⚙️ \u001b[1;34mRunning: az cognitiveservices account purge -g lab-backend-pool-load-balancing -n openai1-b2qbckzijvyk4 -l \"uksouth\" \u001b[0m\n",
      "✅ \u001b[1;32mCognitive Services 'openai1-b2qbckzijvyk4' purged\u001b[0m ⌚ 13:00:18.837894 [0m:33s]\n",
      "\n",
      "🔍  Processing resource 10/17...\n",
      "⚙️ \u001b[1;34mRunning: az resource show --id /subscriptions/dcef7009-6b94-4382-afdc-17eb160d709a/resourceGroups/lab-backend-pool-load-balancing/providers/Microsoft.CognitiveServices/accounts/openai1-b2qbckzijvyk4/deployments/gpt-35-turbo --query \"{type:type, name:name, location:location}\" -o json \u001b[0m\n",
      "\n",
      "🔍  Processing resource 11/17...\n",
      "⚙️ \u001b[1;34mRunning: az resource show --id /subscriptions/dcef7009-6b94-4382-afdc-17eb160d709a/resourceGroups/lab-backend-pool-load-balancing/providers/Microsoft.CognitiveServices/accounts/openai1-b2qbckzijvyk4/providers/Microsoft.Authorization/roleAssignments/9139574a-ec87-5f86-9240-968220960228 --query \"{type:type, name:name, location:location}\" -o json \u001b[0m\n",
      "\n",
      "🔍  Processing resource 12/17...\n",
      "⚙️ \u001b[1;34mRunning: az resource show --id /subscriptions/dcef7009-6b94-4382-afdc-17eb160d709a/resourceGroups/lab-backend-pool-load-balancing/providers/Microsoft.CognitiveServices/accounts/openai2-b2qbckzijvyk4 --query \"{type:type, name:name, location:location}\" -o json \u001b[0m\n",
      "🗑 Deleting Microsoft.CognitiveServices/accounts 'openai2-b2qbckzijvyk4' in resource group 'lab-backend-pool-load-balancing'...\n",
      "⚙️ \u001b[1;34mRunning: az cognitiveservices account delete -g lab-backend-pool-load-balancing -n openai2-b2qbckzijvyk4 \u001b[0m\n",
      "✅ \u001b[1;32mCognitive Services 'openai2-b2qbckzijvyk4' deleted\u001b[0m ⌚ 13:00:35.028001 [0m:5s]\n",
      "⚙️ \u001b[1;34mRunning: az cognitiveservices account purge -g lab-backend-pool-load-balancing -n openai2-b2qbckzijvyk4 -l \"swedencentral\" \u001b[0m\n",
      "✅ \u001b[1;32mCognitive Services 'openai2-b2qbckzijvyk4' purged\u001b[0m ⌚ 13:01:08.456082 [0m:33s]\n",
      "\n",
      "🔍  Processing resource 13/17...\n",
      "⚙️ \u001b[1;34mRunning: az resource show --id /subscriptions/dcef7009-6b94-4382-afdc-17eb160d709a/resourceGroups/lab-backend-pool-load-balancing/providers/Microsoft.CognitiveServices/accounts/openai2-b2qbckzijvyk4/deployments/gpt-35-turbo --query \"{type:type, name:name, location:location}\" -o json \u001b[0m\n",
      "\n",
      "🔍  Processing resource 14/17...\n",
      "⚙️ \u001b[1;34mRunning: az resource show --id /subscriptions/dcef7009-6b94-4382-afdc-17eb160d709a/resourceGroups/lab-backend-pool-load-balancing/providers/Microsoft.CognitiveServices/accounts/openai2-b2qbckzijvyk4/providers/Microsoft.Authorization/roleAssignments/c3478239-c5ad-5156-ba27-44f33ad7cdd8 --query \"{type:type, name:name, location:location}\" -o json \u001b[0m\n",
      "\n",
      "🔍  Processing resource 15/17...\n",
      "⚙️ \u001b[1;34mRunning: az resource show --id /subscriptions/dcef7009-6b94-4382-afdc-17eb160d709a/resourceGroups/lab-backend-pool-load-balancing/providers/Microsoft.CognitiveServices/accounts/openai3-b2qbckzijvyk4 --query \"{type:type, name:name, location:location}\" -o json \u001b[0m\n",
      "🗑 Deleting Microsoft.CognitiveServices/accounts 'openai3-b2qbckzijvyk4' in resource group 'lab-backend-pool-load-balancing'...\n",
      "⚙️ \u001b[1;34mRunning: az cognitiveservices account delete -g lab-backend-pool-load-balancing -n openai3-b2qbckzijvyk4 \u001b[0m\n",
      "✅ \u001b[1;32mCognitive Services 'openai3-b2qbckzijvyk4' deleted\u001b[0m ⌚ 13:01:25.041374 [0m:5s]\n",
      "⚙️ \u001b[1;34mRunning: az cognitiveservices account purge -g lab-backend-pool-load-balancing -n openai3-b2qbckzijvyk4 -l \"francecentral\" \u001b[0m\n",
      "✅ \u001b[1;32mCognitive Services 'openai3-b2qbckzijvyk4' purged\u001b[0m ⌚ 13:01:58.629788 [0m:33s]\n",
      "\n",
      "🔍  Processing resource 16/17...\n",
      "⚙️ \u001b[1;34mRunning: az resource show --id /subscriptions/dcef7009-6b94-4382-afdc-17eb160d709a/resourceGroups/lab-backend-pool-load-balancing/providers/Microsoft.CognitiveServices/accounts/openai3-b2qbckzijvyk4/deployments/gpt-35-turbo --query \"{type:type, name:name, location:location}\" -o json \u001b[0m\n",
      "\n",
      "🔍  Processing resource 17/17...\n",
      "⚙️ \u001b[1;34mRunning: az resource show --id /subscriptions/dcef7009-6b94-4382-afdc-17eb160d709a/resourceGroups/lab-backend-pool-load-balancing/providers/Microsoft.CognitiveServices/accounts/openai3-b2qbckzijvyk4/providers/Microsoft.Authorization/roleAssignments/29eabe38-8557-5312-874d-26d563923e82 --query \"{type:type, name:name, location:location}\" -o json \u001b[0m\n",
      "⚙️ \u001b[1;34mRunning: az group delete --name lab-backend-pool-load-balancing -y \u001b[0m\n",
      "✅ \u001b[1;32mResource group 'lab-backend-pool-load-balancing' deleted\u001b[0m ⌚ 13:02:27.940713 [0m:21s]\n",
      "👉🏽 \u001b[1;32m🧹 Cleanup completed.\u001b[0m ⌚ 13:02:27.941280 \n"
     ]
    }
   ],
   "source": [
    "import os, sys\n",
    "sys.path.insert(1, '../../shared')  # add the shared directory to the Python path\n",
    "import utils\n",
    "\n",
    "deployment_name = os.path.basename(os.path.dirname(globals()['__vsc_ipynb_file__']))\n",
    "utils.cleanup_resources(deployment_name)"
   ]
  }
 ],
 "metadata": {
  "kernelspec": {
   "display_name": "Python 3",
   "language": "python",
   "name": "python3"
  },
  "language_info": {
   "codemirror_mode": {
    "name": "ipython",
    "version": 3
   },
   "file_extension": ".py",
   "mimetype": "text/x-python",
   "name": "python",
   "nbconvert_exporter": "python",
   "pygments_lexer": "ipython3",
   "version": "3.12.8"
  }
 },
 "nbformat": 4,
 "nbformat_minor": 2
}
