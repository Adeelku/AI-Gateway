{
 "cells": [
  {
   "cell_type": "markdown",
   "metadata": {},
   "source": [
    "### 🗑️ Clean up resources\n",
    "\n",
    "When you're finished with the lab, you should remove all your deployed resources from Azure to avoid extra charges and keep your Azure subscription uncluttered."
   ]
  },
  {
   "cell_type": "code",
   "execution_count": 10,
   "metadata": {},
   "outputs": [
    {
     "name": "stdout",
     "output_type": "stream",
     "text": [
      "⚙️ \u001b[1;34mRunning: az account show \u001b[0m\n",
      "✅ \u001b[1;32mRetrieved az account\u001b[0m ⌚ 13:03:58.132901 [0m:2s]\n",
      "⚙️ \u001b[1;34mRunning: terraform destroy -auto-approve \u001b[0m\n",
      "✅ \u001b[1;32mResources deletion succeeded\u001b[0m ⌚ 13:06:29.226116 [2m:31s]\n"
     ]
    }
   ],
   "source": [
    "import os, sys\n",
    "sys.path.insert(1, '../../shared')  # add the shared directory to the Python path\n",
    "import utils\n",
    "\n",
    "output = utils.run(\"az account show\", \"Retrieved az account\", \"Failed to get the current az account\")\n",
    "\n",
    "if output.success and output.json_data:\n",
    "    subscription_id = output.json_data['id']\n",
    "\n",
    "# Specify the target subscription for Terraform\n",
    "os.environ['ARM_SUBSCRIPTION_ID'] = subscription_id\n",
    "\n",
    "# Intialize terraform\n",
    "output = utils.run(\n",
    "    f\"terraform destroy -auto-approve\",\n",
    "    f\"Resources deletion succeeded\",\n",
    "    f\"Resources deletion failed\",\n",
    ")"
   ]
  }
 ],
 "metadata": {
  "kernelspec": {
   "display_name": "Python 3",
   "language": "python",
   "name": "python3"
  },
  "language_info": {
   "codemirror_mode": {
    "name": "ipython",
    "version": 3
   },
   "file_extension": ".py",
   "mimetype": "text/x-python",
   "name": "python",
   "nbconvert_exporter": "python",
   "pygments_lexer": "ipython3",
   "version": "3.12.8"
  }
 },
 "nbformat": 4,
 "nbformat_minor": 2
}
