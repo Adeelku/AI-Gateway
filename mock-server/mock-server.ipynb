{
 "cells": [
  {
   "cell_type": "markdown",
   "metadata": {},
   "source": [
    "# APIM ❤️ OpenAI\n",
    "\n",
    "## OpenAI Mock Server(s)\n",
    "\n",
    "This notebook provides guidance on the use of mock servers locally and in Azure. The AI-Gateway Mock servers are designed to mimic the behavior and responses of the OpenAI API, thereby creating an efficient simulation environment suitable for testing and development purposes on the integration with APIM and other use cases.\n",
    "The ```app.py``` file can be customized to tailor the Mock server to your unique requirements.\n",
    "\n",
    "### Run locally\n",
    "Open a terminal and type:\n",
    "```\n",
    "pip install -r requirements.txt\n",
    "flask --app app.py --debug run\n",
    "```\n",
    "### Deploy to Azure Web Apps\n",
    "Prerequisites\n",
    "- [Python 3.8 or later version](https://www.python.org/) installed\n",
    "- [VS Code](https://code.visualstudio.com/) installed with the [Jupyter notebook extension](https://marketplace.visualstudio.com/items?itemName=ms-toolsai.jupyter) enabled\n",
    "- [Azure CLI](https://learn.microsoft.com/en-us/cli/azure/install-azure-cli) installed\n",
    "- [An Azure Subscription](https://azure.microsoft.com/en-us/free/) with Contributor permissions\n",
    "- [Sign in to Azure with Azure CLI](https://learn.microsoft.com/en-us/cli/azure/authenticate-azure-cli-interactively)\n",
    "\n",
    "Execute the following steps to deploy to Azure.\n",
    "The ```mock_webapps``` is a list of names that will be used to create the Azure Web App(s). All the Web Apps will reuse the same App Service Plan."
   ]
  },
  {
   "cell_type": "markdown",
   "metadata": {},
   "source": [
    "### 0️⃣ Initialize notebook variables"
   ]
  },
  {
   "cell_type": "code",
   "execution_count": 17,
   "metadata": {},
   "outputs": [],
   "source": [
    "mock_resource_group = \"lab-ai-gateway-mock\"\n",
    "mock_location = \"swedencentral\" # the location that will be used for the resource group, app service plan and web apps\n",
    "mock_webapps = [ {\"name\": \"openaimock1\"}, {\"name\": \"openaimock2\"} ] # ensure that the names are not being used within Azure\n",
    "mock_webapp_runtime = \"PYTHON:3.12\"\n",
    "mock_app_service_plan = \"openaimock-plan\"\n",
    "mock_app_service_plan_sku = \"B1\"\n"
   ]
  },
  {
   "cell_type": "markdown",
   "metadata": {},
   "source": [
    "### 1️⃣ Deploy or update Mock Server(s)\n",
    "The following command is an [all-in-one command](https://learn.microsoft.com/en-us/cli/azure/webapp?view=azure-cli-latest#az-webapp-up) that creates all the Azure resources and deploys the source code. When finished it should open a browser window for each Mock server created.\n",
    "You can repeat this step if you modify the ```app.py``` file to incorporate your specific mocking behavior. This will allow you to redeploy using the same resources that were previously created. "
   ]
  },
  {
   "cell_type": "code",
   "execution_count": 18,
   "metadata": {},
   "outputs": [
    {
     "name": "stdout",
     "output_type": "stream",
     "text": [
      "{\n",
      "  \"appserviceplan\": \"openaimock-plan\",\n",
      "  \"location\": \"swedencentral\",\n",
      "  \"name\": \"openaimock1\",\n",
      "  \"os\": \"Linux\",\n",
      "  \"resourcegroup\": \"lab-ai-gateway-mock\",\n",
      "  \"runtime_version\": \"PYTHON|3.12\",\n",
      "  \"runtime_version_detected\": \"-\",\n",
      "  \"sku\": \"BASIC\",\n",
      "  \"src_path\": \"c:\\\\Projects\\\\AI-Gateway\\\\mock-server\"\n",
      "}\n"
     ]
    },
    {
     "name": "stderr",
     "output_type": "stream",
     "text": [
      "D:\\a\\_work\\1\\s\\build_scripts\\windows\\artifacts\\cli\\Lib\\site-packages\\OpenSSL/_util.py:6: UserWarning: You are using cryptography on a 32-bit Python on a 64-bit Windows Operating System. Cryptography will be significantly faster if you switch to using a 64-bit Python.\n",
      "WARNING: The webapp 'openaimock1' doesn't exist\n",
      "WARNING: Creating Resource group 'lab-ai-gateway-mock' ...\n",
      "WARNING: Resource group creation complete\n",
      "WARNING: Creating AppServicePlan 'openaimock-plan' or Updating if already exists\n",
      "WARNING: Readonly attribute name will be ignored in class <class 'azure.mgmt.web.v2023_01_01.models._models_py3.AppServicePlan'>\n",
      "WARNING: Creating webapp 'openaimock1' ...\n",
      "WARNING: Configuring default logging for the app, if not already enabled\n",
      "WARNING: Creating zip with contents of dir c:\\Projects\\AI-Gateway\\mock-server ...\n",
      "WARNING: Getting scm site credentials for zip deployment\n",
      "WARNING: Starting zip deployment. This operation can take a while to complete ...\n",
      "WARNING: Deployment endpoint responded with status code 202\n",
      "WARNING: Polling the status of async deployment. Start Time: 2024-04-09 09:32:40.757681+00:00 UTC\n",
      "WARNING: Status: Building the app... Time: 0(s)\n",
      "WARNING: Status: Building the app... Time: 16(s)\n",
      "WARNING: Status: Building the app... Time: 32(s)\n",
      "WARNING: Status: Building the app... Time: 48(s)\n",
      "WARNING: Status: Building the app... Time: 64(s)\n",
      "WARNING: Status: Building the app... Time: 80(s)\n",
      "WARNING: Status: Building the app... Time: 96(s)\n",
      "WARNING: Status: Build successful. Time: 112(s)\n",
      "WARNING: Status: Starting the site... Time: 128(s)\n",
      "WARNING: Status: Starting the site... Time: 144(s)\n",
      "WARNING: Status: Starting the site... Time: 160(s)\n",
      "WARNING: Status: Starting the site... Time: 176(s)\n",
      "WARNING: Status: Starting the site... Time: 192(s)\n",
      "WARNING: Status: Starting the site... Time: 208(s)\n",
      "WARNING: Status: Starting the site... Time: 224(s)\n",
      "WARNING: Status: Starting the site... Time: 240(s)\n",
      "WARNING: Status: Site started successfully. Time: 256(s)\n",
      "WARNING: Launching app using default browser\n",
      "WARNING: Setting 'az webapp up' default arguments for current directory. Manage defaults with 'az configure --scope local'\n",
      "WARNING: --resource-group/-g default: lab-ai-gateway-mock\n",
      "WARNING: --sku default: B1\n",
      "WARNING: --plan/-p default: openaimock-plan\n",
      "WARNING: --location/-l default: swedencentral\n",
      "WARNING: --name/-n default: openaimock1\n"
     ]
    },
    {
     "name": "stdout",
     "output_type": "stream",
     "text": [
      "{\n",
      "  \"appserviceplan\": \"openaimock-plan\",\n",
      "  \"location\": \"swedencentral\",\n",
      "  \"name\": \"openaimock2\",\n",
      "  \"os\": \"Linux\",\n",
      "  \"resourcegroup\": \"lab-ai-gateway-mock\",\n",
      "  \"runtime_version\": \"PYTHON|3.12\",\n",
      "  \"runtime_version_detected\": \"-\",\n",
      "  \"sku\": \"BASIC\",\n",
      "  \"src_path\": \"c:\\\\Projects\\\\AI-Gateway\\\\mock-server\"\n",
      "}\n"
     ]
    },
    {
     "name": "stderr",
     "output_type": "stream",
     "text": [
      "D:\\a\\_work\\1\\s\\build_scripts\\windows\\artifacts\\cli\\Lib\\site-packages\\OpenSSL/_util.py:6: UserWarning: You are using cryptography on a 32-bit Python on a 64-bit Windows Operating System. Cryptography will be significantly faster if you switch to using a 64-bit Python.\n",
      "WARNING: The webapp 'openaimock2' doesn't exist\n",
      "WARNING: Creating AppServicePlan 'openaimock-plan' or Updating if already exists\n",
      "WARNING: Readonly attribute name will be ignored in class <class 'azure.mgmt.web.v2023_01_01.models._models_py3.AppServicePlan'>\n",
      "WARNING: Creating webapp 'openaimock2' ...\n",
      "WARNING: Configuring default logging for the app, if not already enabled\n",
      "WARNING: Creating zip with contents of dir c:\\Projects\\AI-Gateway\\mock-server ...\n",
      "WARNING: Getting scm site credentials for zip deployment\n",
      "WARNING: Starting zip deployment. This operation can take a while to complete ...\n",
      "WARNING: Deployment endpoint responded with status code 202\n",
      "WARNING: Polling the status of async deployment. Start Time: 2024-04-09 09:38:20.414444+00:00 UTC\n",
      "WARNING: Status: Building the app... Time: 0(s)\n",
      "WARNING: Status: Building the app... Time: 16(s)\n",
      "WARNING: Status: Building the app... Time: 32(s)\n",
      "WARNING: Status: Building the app... Time: 48(s)\n",
      "WARNING: Status: Building the app... Time: 64(s)\n",
      "WARNING: Status: Building the app... Time: 80(s)\n",
      "WARNING: Status: Building the app... Time: 96(s)\n",
      "WARNING: Status: Building the app... Time: 112(s)\n",
      "WARNING: Status: Building the app... Time: 128(s)\n",
      "WARNING: Status: Build successful. Time: 144(s)\n",
      "WARNING: Status: Starting the site... Time: 160(s)\n",
      "WARNING: Status: Site started successfully. Time: 176(s)\n",
      "WARNING: Launching app using default browser\n",
      "WARNING: Setting 'az webapp up' default arguments for current directory. Manage defaults with 'az configure --scope local'\n",
      "WARNING: --resource-group/-g default: lab-ai-gateway-mock\n",
      "WARNING: --sku default: B1\n",
      "WARNING: --plan/-p default: openaimock-plan\n",
      "WARNING: --location/-l default: swedencentral\n",
      "WARNING: --name/-n default: openaimock2\n"
     ]
    }
   ],
   "source": [
    "for mock_webapp in mock_webapps:\n",
    "    mock_webapp_name = mock_webapp.get(\"name\")\n",
    "    ! az webapp up --resource-group {mock_resource_group} --name {mock_webapp_name} --location {mock_location} \\\n",
    "        --plan {mock_app_service_plan} --runtime {mock_webapp_runtime} --sku {mock_app_service_plan_sku} --track-status true --launch-browser "
   ]
  },
  {
   "cell_type": "markdown",
   "metadata": {},
   "source": [
    "### 2️⃣ Test the Mock server(s)\n",
    "The following code uses the Python HTTP client library to simulate OpenAI requests to the Mock server(s). To guide the mock server towards simulating behaviors such as returning a specific status code or incorporating a delay to influence the response time, you may modify the content structure as illustrated below."
   ]
  },
  {
   "cell_type": "code",
   "execution_count": 25,
   "metadata": {},
   "outputs": [
    {
     "name": "stdout",
     "output_type": "stream",
     "text": [
      "status code:  429\n",
      "headers:  {'Content-Length': '85', 'Content-Type': 'application/json', 'Date': 'Tue, 09 Apr 2024 12:53:06 GMT', 'Server': 'gunicorn', 'Set-Cookie': 'ARRAffinity=66379d7aad515b9bbf7999f46645cae8f2e2a47fd276f9546c5765e57c056668;Path=/;HttpOnly;Secure;Domain=openaimock1.azurewebsites.net, ARRAffinitySameSite=66379d7aad515b9bbf7999f46645cae8f2e2a47fd276f9546c5765e57c056668;Path=/;HttpOnly;SameSite=None;Secure;Domain=openaimock1.azurewebsites.net', 'x-ms-region': 'openaimock1.azurewebsites.net'}\n",
      "{\"error\":{\"code\":\"429\",\"message\":\"Rate limit is exceeded. Try again in 5 seconds.\"}}\n",
      "\n",
      "status code:  200\n",
      "headers:  {'Content-Length': '308', 'Content-Type': 'text/html; charset=utf-8', 'Date': 'Tue, 09 Apr 2024 12:53:06 GMT', 'Server': 'gunicorn', 'Set-Cookie': 'ARRAffinity=66379d7aad515b9bbf7999f46645cae8f2e2a47fd276f9546c5765e57c056668;Path=/;HttpOnly;Secure;Domain=openaimock2.azurewebsites.net, ARRAffinitySameSite=66379d7aad515b9bbf7999f46645cae8f2e2a47fd276f9546c5765e57c056668;Path=/;HttpOnly;SameSite=None;Secure;Domain=openaimock2.azurewebsites.net', 'x-ms-region': 'openaimock2.azurewebsites.net'}\n",
      "response:  Mock response from openaimock2.azurewebsites.net\n"
     ]
    }
   ],
   "source": [
    "import json\n",
    "import requests\n",
    "\n",
    "for mock_webapp in mock_webapps:\n",
    "    mock_webapp_name = mock_webapp.get(\"name\")\n",
    "    url = \"https://\" + mock_webapp_name + \".azurewebsites.net/openai/deployments/gpt5/chat/completions?api-version=2024-02-01\"\n",
    "    messages={\n",
    "        \"messages\": [\n",
    "            {\n",
    "                \"role\": \"system\", \n",
    "                \"content\": {\n",
    "                    \"simulation\": {\n",
    "                        \"default\": {\"response_status_code\": 200, \"wait_time_ms\": 0}\n",
    "                    }\n",
    "                }\n",
    "            }\n",
    "        ]\n",
    "    }\n",
    "    response = requests.post(url, json = messages)\n",
    "    print(\"status code: \", response.status_code)\n",
    "    print(\"headers: \", response.headers)\n",
    "    if (response.status_code == 200):\n",
    "        data = json.loads(response.text)\n",
    "        print(\"response: \", data.get(\"choices\")[0].get(\"message\").get(\"content\"))\n",
    "    else:\n",
    "        print(response.text)"
   ]
  },
  {
   "cell_type": "markdown",
   "metadata": {},
   "source": [
    "### (optional) Stream logs\n",
    "\n",
    "Execute the result of the following script in a terminal to tail the streamed logs"
   ]
  },
  {
   "cell_type": "code",
   "execution_count": 20,
   "metadata": {},
   "outputs": [
    {
     "name": "stdout",
     "output_type": "stream",
     "text": [
      "az webapp log tail --name openaimock1 --resource-group lab-ai-gateway-mock\n"
     ]
    },
    {
     "name": "stdout",
     "output_type": "stream",
     "text": [
      "az webapp log tail --name openaimock2 --resource-group lab-ai-gateway-mock\n"
     ]
    }
   ],
   "source": [
    "for mock_webapp in mock_webapps:\n",
    "    mock_webapp_name = mock_webapp.get(\"name\")\n",
    "    ! echo az webapp log tail --name {mock_webapp_name} --resource-group {mock_resource_group}"
   ]
  },
  {
   "cell_type": "markdown",
   "metadata": {},
   "source": [
    "### 🗑️ Clean up resources\n",
    "\n",
    "When you're finished with the APIM ❤️ OpenAI Mock server(s), you can remove all your deployed resources from Azure. To avoid extra charges and keep your Azure subscription uncluttered. Removing the resource group is the fastest way to remove all Azure resources that you have created."
   ]
  },
  {
   "cell_type": "code",
   "execution_count": 21,
   "metadata": {},
   "outputs": [],
   "source": [
    "run_cell = False\n",
    "if run_cell:\n",
    "    ! az group delete --name {mock_resource_group} -y"
   ]
  }
 ],
 "metadata": {
  "kernelspec": {
   "display_name": "Python 3",
   "language": "python",
   "name": "python3"
  },
  "language_info": {
   "codemirror_mode": {
    "name": "ipython",
    "version": 3
   },
   "file_extension": ".py",
   "mimetype": "text/x-python",
   "name": "python",
   "nbconvert_exporter": "python",
   "pygments_lexer": "ipython3",
   "version": "3.11.9"
  }
 },
 "nbformat": 4,
 "nbformat_minor": 2
}
